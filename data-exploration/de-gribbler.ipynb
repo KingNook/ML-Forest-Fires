{
 "cells": [
  {
   "cell_type": "markdown",
   "id": "17ed9848",
   "metadata": {},
   "source": [
    "# THE DEGRIBBLER -- READING GRIB FILES\n",
    "Notebook with code to yoink data from .grib files (data files downloaded from ERA5)\n"
   ]
  },
  {
   "cell_type": "code",
   "execution_count": 36,
   "id": "be5d3278",
   "metadata": {},
   "outputs": [],
   "source": [
    "'''misc imports'''\n",
    "import numpy as np"
   ]
  },
  {
   "cell_type": "markdown",
   "id": "ed7a17f5",
   "metadata": {},
   "source": [
    "## Section 1: Data Loading\n",
    "\n",
    "Download data, and pop it into `../data`\n",
    "\n",
    "### File Naming\n",
    "Data will be stored under `../data` with the naming convention:\n",
    "\n",
    "- Multi-Year (will include all hours): `<attributes>_<start-year>_<end-year>_<region>` \n",
    "- Single-Point / Small datasets: `<attributes>_<date>_<time(s)>_<region>`\n",
    "\n",
    "`<attributes>` will use the short name given in GRIB description or description of properties as a whole // will occasionally be replaced by \"full data\" OWTTE\n",
    "\n",
    "### Current data files\n",
    "For copying and pasting into 'file name' field\n",
    "\n",
    "- `2d-wind_2024-05-12_all-hours_NA-only` -- 10m u and v wind speeds over North American region (all hours, single day)"
   ]
  },
  {
   "cell_type": "code",
   "execution_count": 4,
   "id": "b7f8fc6d",
   "metadata": {},
   "outputs": [
    {
     "data": {
      "text/plain": [
       "['2d-wind_2024-05-12_all-hours_NA-only']"
      ]
     },
     "execution_count": 4,
     "metadata": {},
     "output_type": "execute_result"
    }
   ],
   "source": [
    "'''grab data file names'''\n",
    "import os\n",
    "\n",
    "os.listdir('../data')"
   ]
  },
  {
   "cell_type": "markdown",
   "id": "048d97de",
   "metadata": {},
   "source": [
    "**RUN THIS CODE BEFORE ANY FURTHER CODE BLOCKS -- NECESSARY FOR LOADING DATA (AND DEFININING THE `grib_file` VARIABLE)**"
   ]
  },
  {
   "cell_type": "code",
   "execution_count": 8,
   "id": "b3f754dd",
   "metadata": {},
   "outputs": [],
   "source": [
    "'''load grib file'''\n",
    "import earthkit.data as ekd\n",
    "\n",
    "FILENAME = '2d-wind_2024-05-12_all-hours_NA-only'\n",
    "\n",
    "path_ddir = '../data/'\n",
    "dfile_name = f'{FILENAME}/data.grib'\n",
    "\n",
    "data_path = path_ddir + dfile_name\n",
    "\n",
    "grib_file = ekd.from_source('file', data_path)"
   ]
  },
  {
   "cell_type": "code",
   "execution_count": 27,
   "id": "6d024300",
   "metadata": {},
   "outputs": [
    {
     "data": {
      "text/plain": [
       "(3, 361, 641)"
      ]
     },
     "execution_count": 27,
     "metadata": {},
     "output_type": "execute_result"
    }
   ],
   "source": [
    "'''inspect grib file'''\n",
    "\n",
    "grib_file.ls()\n",
    "\n",
    "grib_file[0].data().shape"
   ]
  },
  {
   "cell_type": "markdown",
   "id": "d968d3e1",
   "metadata": {},
   "source": [
    "## 2 - Dataset-specific Code\n",
    "Storage for code that isn't generally applicable (can probably copy-paste most stuff, but in general, this section is for data validation / cleaning etc)\n"
   ]
  },
  {
   "cell_type": "markdown",
   "id": "488ddd6b",
   "metadata": {},
   "source": [
    "### 2.1 - WIND DATA\n",
    "\n",
    "*2d-wind_2024-05-12_all-hours_NA-only* has data points on a 361 x 641 grid\n",
    "\n",
    "`u_data` and `v_data` have the shapes `(26,361,641)` \n",
    "\n",
    "- `data[0]` should be latitudes\n",
    "- `data[1]` should be longitudes\n",
    "- `data[2-25]` should then contain the 'values' -- i would guess that (since this is 24 readings) that these are the values for each hour\n",
    "\n",
    "so for analysis etc, only relevant data is from `data[2:]`"
   ]
  },
  {
   "cell_type": "code",
   "execution_count": null,
   "id": "755dd31b",
   "metadata": {},
   "outputs": [
    {
     "data": {
      "text/plain": [
       "(2, 361, 641)"
      ]
     },
     "execution_count": 30,
     "metadata": {},
     "output_type": "execute_result"
    }
   ],
   "source": [
    "'''separate data into u, v components'''\n",
    "# we have values for each variable at each ll coord for each of the 24 hours (24, 361, 641)\n",
    "\n",
    "ll = grib_file[0].data()[:2] # latitude and longitude at each grid point\n",
    "\n",
    "u_data = grib_file.sel(shortName='10u').data()[2:]\n",
    "v_data = grib_file.sel(shortName='10v').data()[2:]\n",
    "\n",
    "ll.shape"
   ]
  },
  {
   "cell_type": "code",
   "execution_count": 40,
   "id": "217955e5",
   "metadata": {},
   "outputs": [
    {
     "data": {
      "text/plain": [
       "array([[4.30474332, 4.30474332, 4.30474332, ..., 4.30474332, 4.30474332,\n",
       "        4.30474332],\n",
       "       [4.20232934, 4.20051659, 4.19837592, ..., 4.38956492, 4.38983048,\n",
       "        4.38933561],\n",
       "       [3.80848158, 3.80736465, 3.80545865, ..., 4.29595155, 4.29410452,\n",
       "        4.29205443],\n",
       "       ...,\n",
       "       [1.54193628, 1.72052247, 1.84326959, ..., 5.63880411, 5.35185068,\n",
       "        5.1554943 ],\n",
       "       [2.06151549, 2.14529658, 2.0417061 , ..., 5.33741975, 5.03000506,\n",
       "        4.84579768],\n",
       "       [2.51726516, 2.52590904, 2.36311542, ..., 5.12454551, 4.84210093,\n",
       "        4.64978638]], shape=(361, 641))"
      ]
     },
     "execution_count": 40,
     "metadata": {},
     "output_type": "execute_result"
    }
   ],
   "source": [
    "speed = np.sqrt(u_data**2 + v_data**2)\n",
    "\n",
    "speed[0]"
   ]
  },
  {
   "cell_type": "code",
   "execution_count": 41,
   "id": "7a34bf0d",
   "metadata": {},
   "outputs": [
    {
     "data": {
      "text/plain": [
       "(array([[ 4.23158264,  4.23158264,  4.23158264, ...,  4.23158264,\n",
       "          4.23158264,  4.23158264],\n",
       "        [ 3.93373108,  3.92884827,  3.92396545, ..., -4.31040955,\n",
       "         -4.31236267, -4.31333923],\n",
       "        [ 3.39076233,  3.38197327,  3.37220764, ..., -4.12095642,\n",
       "         -4.12388611, -4.1268158 ],\n",
       "        ...,\n",
       "        [-1.3611908 , -1.61705017, -1.78013611, ..., -3.71568298,\n",
       "         -3.48716736, -3.31724548],\n",
       "        [-1.77720642, -1.93443298, -1.87486267, ..., -3.66197205,\n",
       "         -3.42076111, -3.23521423],\n",
       "        [-2.11314392, -2.17466736, -2.06919861, ..., -3.63560486,\n",
       "         -3.4315033 , -3.24693298]], shape=(361, 641)),\n",
       " array([[ 0.79026794,  0.79026794,  0.79026794, ...,  0.79026794,\n",
       "          0.79026794,  0.79026794],\n",
       "        [-1.47828674, -1.48609924, -1.49293518, ..., -0.82984924,\n",
       "         -0.82106018, -0.81324768],\n",
       "        [-1.73414612, -1.74879456, -1.76344299, ..., -1.21363831,\n",
       "         -1.19703674, -1.17945862],\n",
       "        ...,\n",
       "        [-0.72438049, -0.58766174, -0.47828674, ...,  4.24143982,\n",
       "          4.05979919,  3.94651794],\n",
       "        [-1.04469299, -0.92750549, -0.80836487, ...,  3.88304138,\n",
       "          3.68772888,  3.60765076],\n",
       "        [-1.36793518, -1.28492737, -1.14137268, ...,  3.61155701,\n",
       "          3.41624451,  3.32835388]], shape=(361, 641)))"
      ]
     },
     "execution_count": 41,
     "metadata": {},
     "output_type": "execute_result"
    }
   ],
   "source": [
    "u_data[0], v_data[0]"
   ]
  },
  {
   "cell_type": "code",
   "execution_count": 35,
   "id": "a3116a9b",
   "metadata": {},
   "outputs": [
    {
     "data": {
      "text/plain": [
       "17.90629163914937"
      ]
     },
     "execution_count": 35,
     "metadata": {},
     "output_type": "execute_result"
    }
   ],
   "source": [
    "4.23158264**2"
   ]
  }
 ],
 "metadata": {
  "kernelspec": {
   "display_name": "Python 3",
   "language": "python",
   "name": "python3"
  },
  "language_info": {
   "codemirror_mode": {
    "name": "ipython",
    "version": 3
   },
   "file_extension": ".py",
   "mimetype": "text/x-python",
   "name": "python",
   "nbconvert_exporter": "python",
   "pygments_lexer": "ipython3",
   "version": "3.13.5"
  }
 },
 "nbformat": 4,
 "nbformat_minor": 5
}
