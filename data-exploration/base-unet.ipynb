{
 "cells": [
  {
   "cell_type": "markdown",
   "id": "8a9603b9",
   "metadata": {},
   "source": [
    "# UNet n stuff\n",
    "setup basic unet -- no point in diving straight into full model for the project as will inevitably have bugs -- better to start with a small NN that i can use to figure out syntax, construction etc, then scale that up later"
   ]
  },
  {
   "cell_type": "code",
   "execution_count": null,
   "id": "ec7d2665",
   "metadata": {},
   "outputs": [],
   "source": [
    "## various imports ##\n",
    "\n",
    "import torch\n",
    "import torch.nn as nn\n",
    "import numpy as np\n",
    "\n",
    "import earthkit.data as ekd"
   ]
  },
  {
   "cell_type": "markdown",
   "id": "0bbf50b0",
   "metadata": {},
   "source": [
    "## Initialise the model\n",
    "\n"
   ]
  },
  {
   "cell_type": "code",
   "execution_count": null,
   "id": "37699828",
   "metadata": {},
   "outputs": [],
   "source": []
  }
 ],
 "metadata": {
  "language_info": {
   "name": "python"
  }
 },
 "nbformat": 4,
 "nbformat_minor": 5
}
