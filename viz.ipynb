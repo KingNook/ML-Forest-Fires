{
 "cells": [
  {
   "cell_type": "markdown",
   "id": "98a8101e",
   "metadata": {},
   "source": [
    "# Visualisation\n",
    "Various examples of model / performance evaluation"
   ]
  },
  {
   "cell_type": "code",
   "execution_count": null,
   "id": "558724f8",
   "metadata": {},
   "outputs": [],
   "source": [
    "from joblib import load\n",
    "model = load('ADABoost_DS-0,1.joblib')"
   ]
  },
  {
   "cell_type": "code",
   "execution_count": null,
   "id": "d2ab6145",
   "metadata": {},
   "outputs": [],
   "source": [
    "import xarray as xr\n",
    "from main.train.prepare_samples import prep_samples\n",
    "ds = xr.open_zarr('./data/_ZARR_READY/canada-post')\n",
    "X, y = prep_samples(\n",
    "    ds, \n",
    "    compute_chunks = True\n",
    ")"
   ]
  },
  {
   "cell_type": "code",
   "execution_count": null,
   "id": "aee144f3",
   "metadata": {},
   "outputs": [],
   "source": [
    "import os\n",
    "\n",
    "os.environ['SCIPY_ARRAY_API'] = '1'"
   ]
  },
  {
   "cell_type": "code",
   "execution_count": null,
   "id": "eb97ef18",
   "metadata": {},
   "outputs": [],
   "source": [
    "from imblearn.under_sampling import RandomUnderSampler\n",
    "\n",
    "ds = RandomUnderSampler(sampling_strategy = 0.1)\n",
    "X_down, y_down = ds.fit_resample(X, y)"
   ]
  },
  {
   "cell_type": "code",
   "execution_count": null,
   "id": "8b040fed",
   "metadata": {},
   "outputs": [],
   "source": [
    "y_pred = model.predict(X_down)"
   ]
  },
  {
   "cell_type": "code",
   "execution_count": null,
   "id": "6efb483c",
   "metadata": {},
   "outputs": [],
   "source": [
    "import dask.array as da\n",
    "\n",
    "full_arr = da.concatenate([X_down, y_down.reshape(-1, 1), y_pred.reshape(-1, 1)], axis=1)"
   ]
  },
  {
   "cell_type": "code",
   "execution_count": null,
   "id": "7fd1b374",
   "metadata": {},
   "outputs": [],
   "source": [
    "import dask.dataframe as df\n",
    "\n",
    "ORIGINAL_FEATURES = ['d2m', 'lai_hv', 'lai_lv', 'mu_t2m_180', 'mu_t2m_30', 'mu_t2m_90', 'mu_tp_90', 'mu_tp_30', 'sp', 'mu_tp_180', 't2m', 'tp', 'ws10']\n",
    "full_data = df.from_array(\n",
    "    full_arr, columns = ORIGINAL_FEATURES + ['fire', 'predicted']\n",
    ")"
   ]
  },
  {
   "cell_type": "code",
   "execution_count": null,
   "id": "5f6f622c",
   "metadata": {},
   "outputs": [],
   "source": [
    "import seaborn as sns\n",
    "\n",
    "sns.boxenplot(\n",
    "    full_data, x = 'fire', y = ''\n",
    ")"
   ]
  },
  {
   "cell_type": "code",
   "execution_count": null,
   "id": "08e83c14",
   "metadata": {},
   "outputs": [],
   "source": [
    "import matplotlib.pyplot as plt\n",
    "import seaborn as sns\n",
    "\n",
    "x_var = 't2m'\n",
    "y_var = 'mu_t2m_30'\n",
    "\n",
    "plot_df = full_data[[x_var, y_var, 'fire']].compute()\n",
    "\n",
    "sns.scatterplot(\n",
    "    data = plot_df, x = x_var, y = y_var, hue = 'fire'\n",
    ")\n"
   ]
  }
 ],
 "metadata": {
  "kernelspec": {
   "display_name": "ml_ff",
   "language": "python",
   "name": "python3"
  },
  "language_info": {
   "codemirror_mode": {
    "name": "ipython",
    "version": 3
   },
   "file_extension": ".py",
   "mimetype": "text/x-python",
   "name": "python",
   "nbconvert_exporter": "python",
   "pygments_lexer": "ipython3",
   "version": "3.13.0"
  }
 },
 "nbformat": 4,
 "nbformat_minor": 5
}
