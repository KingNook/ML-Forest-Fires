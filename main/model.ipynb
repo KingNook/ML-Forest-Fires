{
 "cells": [
  {
   "cell_type": "markdown",
   "id": "4eebc7eb",
   "metadata": {},
   "source": [
    "# The Model"
   ]
  },
  {
   "cell_type": "markdown",
   "id": "95bec8a3",
   "metadata": {},
   "source": [
    "## setup"
   ]
  },
  {
   "cell_type": "code",
   "execution_count": 1,
   "id": "364926d6",
   "metadata": {},
   "outputs": [
    {
     "name": "stderr",
     "output_type": "stream",
     "text": [
      "2025-08-05 14:39:51,173 INFO [2024-09-26T00:00:00] Watch our [Forum](https://forum.ecmwf.int/) for Announcements, news and other discussed topics.\n"
     ]
    }
   ],
   "source": [
    "## imports\n",
    "#  modules\n",
    "import numpy as np\n",
    "import pandas as pd\n",
    "import xarray as xr\n",
    "import warnings\n",
    "from torch.utils.data import DataLoader\n",
    "\n",
    "import os\n",
    "\n",
    "# custom code\n",
    "import dask_addons\n",
    "from open_data import open_data_dir, data_dir_to_zarr\n",
    "from compute_wind_speed import append_wind_speed\n",
    "\n",
    "import tools\n",
    "warnings.filterwarnings('ignore')"
   ]
  },
  {
   "cell_type": "code",
   "execution_count": 2,
   "id": "b0d68d5d",
   "metadata": {},
   "outputs": [],
   "source": [
    "from dask.distributed import Client\n",
    "#client = Client()\n",
    "#client"
   ]
  },
  {
   "cell_type": "code",
   "execution_count": 3,
   "id": "a4f57006",
   "metadata": {},
   "outputs": [],
   "source": [
    "DATA_DIR_PATH = '../data/_ZARR_FILES'\n",
    "\n",
    "data_path = os.path.join(DATA_DIR_PATH, 'alaska_full.zarr')\n",
    "prior_data_path = os.path.join(DATA_DIR_PATH, 'alaska_prior.zarr')\n",
    "\n",
    "data = xr.open_zarr(data_path, decode_timedelta=False)\n",
    "prior_data = xr.open_zarr(prior_data_path, decode_timedelta=False)"
   ]
  },
  {
   "cell_type": "code",
   "execution_count": 4,
   "id": "aaf9ca84",
   "metadata": {},
   "outputs": [],
   "source": [
    "ds = dask_addons.FlattenedDaskDataset(data, prior_data)\n",
    "ds.compute_resultant_speed()"
   ]
  },
  {
   "cell_type": "code",
   "execution_count": null,
   "id": "5f243f17",
   "metadata": {},
   "outputs": [
    {
     "data": {
      "text/plain": [
       "1.2123690843582153"
      ]
     },
     "execution_count": 10,
     "metadata": {},
     "output_type": "execute_result"
    }
   ],
   "source": [
    "ds[0, 6]"
   ]
  },
  {
   "cell_type": "markdown",
   "id": "0ab01cfa",
   "metadata": {},
   "source": [
    "code in md so i don't accidentally run it; took ~15min to convert full dataset to zarr (no editing done)\n",
    "```\n",
    "ddpath = os.path.join('../data', 'alaska_main')\n",
    "target_path = os.path.join(DATA_DIR_PATH, 'alaska_full.zarr')\n",
    "\n",
    "data_dir_to_zarr(ddpath, target_path)\n",
    "```"
   ]
  },
  {
   "cell_type": "markdown",
   "id": "81d4ca7e",
   "metadata": {},
   "source": [
    "## training\n"
   ]
  }
 ],
 "metadata": {
  "kernelspec": {
   "display_name": "ml_ff",
   "language": "python",
   "name": "python3"
  },
  "language_info": {
   "codemirror_mode": {
    "name": "ipython",
    "version": 3
   },
   "file_extension": ".py",
   "mimetype": "text/x-python",
   "name": "python",
   "nbconvert_exporter": "python",
   "pygments_lexer": "ipython3",
   "version": "3.13.0"
  }
 },
 "nbformat": 4,
 "nbformat_minor": 5
}
