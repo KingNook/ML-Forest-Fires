{
 "cells": [
  {
   "cell_type": "markdown",
   "id": "4a3a44de",
   "metadata": {},
   "source": [
    "## imports"
   ]
  },
  {
   "cell_type": "code",
   "execution_count": null,
   "id": "3291a24e",
   "metadata": {},
   "outputs": [],
   "source": [
    "from dask.distributed import Client\n",
    "client = Client()\n",
    "client"
   ]
  },
  {
   "cell_type": "code",
   "execution_count": null,
   "id": "d1bcc0fb",
   "metadata": {},
   "outputs": [],
   "source": [
    "## ENABLE INTEL ACCELERATION \n",
    "from sklearnex import patch_sklearn, unpatch_sklearn\n",
    "patch_sklearn()\n",
    "import os\n",
    "os.environ[\"SCIPY_ARRAY_API\"] = \"1\"\n",
    "\n",
    "# Data Processing\n",
    "import pandas as pd\n",
    "import numpy as np\n",
    "import dask\n",
    "import random_forest\n",
    "from random_forest import prep_samples\n",
    "\n",
    "# Modelling\n",
    "from sklearn.ensemble import RandomForestClassifier, HistGradientBoostingClassifier\n",
    "from sklearn.metrics import accuracy_score, confusion_matrix, precision_score, recall_score, ConfusionMatrixDisplay, classification_report\n",
    "from sklearn.model_selection import RandomizedSearchCV\n",
    "from scipy.stats import randint\n",
    "\n",
    "from imblearn.under_sampling import RandomUnderSampler, NearMiss, TomekLinks, EditedNearestNeighbours\n",
    "from imblearn.over_sampling import ADASYN, SMOTE\n",
    "from imblearn.pipeline import Pipeline\n",
    "from dask_ml.model_selection import train_test_split \n",
    "\n",
    "# Tree Visualisation\n",
    "from sklearn.tree import export_graphviz\n",
    "from IPython.display import Image\n",
    "import graphviz\n",
    "import xarray as xr\n",
    "import numpy as np\n",
    "\n",
    "from importlib import reload\n",
    "from joblib import dump, load"
   ]
  },
  {
   "cell_type": "markdown",
   "id": "68b27246",
   "metadata": {},
   "source": [
    "## data prep"
   ]
  },
  {
   "cell_type": "code",
   "execution_count": null,
   "id": "7836e2d8",
   "metadata": {},
   "outputs": [],
   "source": [
    "ds = xr.open_zarr('../data/_ZARR_READY/la_forest', decode_timedelta=False)\n",
    "# ds = xr.open_zarr('../data/_ZARR_READY/canada', decode_timedelta=False)\n",
    "# prior_data = xr.open_zarr('./data/_ZARR_READY/la_prior_data')\n",
    "print(list(ds.data_vars))"
   ]
  },
  {
   "cell_type": "code",
   "execution_count": null,
   "id": "03f53334",
   "metadata": {},
   "outputs": [],
   "source": [
    "ds.fire.values.sum()"
   ]
  },
  {
   "cell_type": "code",
   "execution_count": null,
   "id": "40b9fa74",
   "metadata": {},
   "outputs": [],
   "source": [
    "import random_forest\n",
    "reload(random_forest)\n",
    "from random_forest import *"
   ]
  },
  {
   "cell_type": "code",
   "execution_count": null,
   "id": "cb5b090f",
   "metadata": {},
   "outputs": [],
   "source": [
    "samples = [1, 2, 3]\n",
    "\n",
    "ada_small = ADASYN(sampling_strategy=0.01)\n",
    "enn = EditedNearestNeighbours()\n",
    "downsampler = RandomUnderSampler(sampling_strategy=0.01)\n",
    "\n",
    "for i in samples:\n",
    "\n",
    "    ds = dask.dataframe.read_csv(f'../data/canada-csv/canada-{i}.csv').drop(columns='Unnamed: 0')\n",
    "    X, y = prep_samples(ds, include_tv=False, compute=False)\n",
    "    \n",
    "    X_resampled, y_resampled = ada_small.fit_resample(X, y)\n",
    "    dump((X_resampled, y_resampled), f'canada-adasyn/canada-{i}.ds_0,01.joblib')"
   ]
  },
  {
   "cell_type": "code",
   "execution_count": null,
   "id": "31cb6cda",
   "metadata": {},
   "outputs": [],
   "source": [
    "ds = xr.open_zarr('../data/_ZARR_READY/la_forest')\n",
    "X, y = prep_samples(ds, compute=True)\n",
    "X_resampled, y_resampled = downsampler.fit_resample(X, y)\n",
    "dump((X_resampled, y_resampled), 'la-resampled/downsampler.joblib')"
   ]
  },
  {
   "cell_type": "code",
   "execution_count": null,
   "id": "38815074",
   "metadata": {},
   "outputs": [],
   "source": [
    "X_1, y_1 = load('canada-downsamples/canada-1.ds_0,01.joblib')\n",
    "X_2, y_2 = load('canada-downsamples/canada-2.ds_0,01.joblib')\n",
    "\n",
    "X = np.append(X_1, X_2, axis=0)\n",
    "y = np.append(y_1, y_2, axis=0)"
   ]
  },
  {
   "cell_type": "code",
   "execution_count": null,
   "id": "bc902dc6",
   "metadata": {},
   "outputs": [],
   "source": [
    "X"
   ]
  },
  {
   "cell_type": "code",
   "execution_count": null,
   "id": "d6a55d03",
   "metadata": {},
   "outputs": [],
   "source": [
    "clf = RandomForestClassifier(n_jobs=-1)\n",
    "clf.fit(X, y)"
   ]
  },
  {
   "cell_type": "code",
   "execution_count": null,
   "id": "69551847",
   "metadata": {},
   "outputs": [],
   "source": [
    "dump(clf, 'models/can.hgb.enn.joblib')"
   ]
  },
  {
   "cell_type": "code",
   "execution_count": null,
   "id": "3a47d8c1",
   "metadata": {},
   "outputs": [],
   "source": [
    "test_ds = dask.dataframe.read_csv('../data/canada-csv/canada-3.csv').drop(columns='Unnamed: 0')\n",
    "X_test, y_test = prep_samples(test_ds)"
   ]
  },
  {
   "cell_type": "code",
   "execution_count": null,
   "id": "aac3121e",
   "metadata": {},
   "outputs": [],
   "source": [
    "X_test, y_test = load('canada-downsamples/canada-3.ds_0,01.joblib')\n",
    "y_pred = clf.predict(X_test)\n",
    "print(classification_report(y_test, y_pred))"
   ]
  },
  {
   "cell_type": "code",
   "execution_count": null,
   "id": "2d3da22e",
   "metadata": {},
   "outputs": [],
   "source": [
    "y_pred.sum()"
   ]
  },
  {
   "cell_type": "code",
   "execution_count": null,
   "id": "643f4ef4",
   "metadata": {},
   "outputs": [],
   "source": [
    "rus = RandomUnderSampler(sampling_strategy=0.1)\n",
    "ada = ADASYN(sampling_strategy=0.01)\n",
    "steps = [('ada', ada), ('rus', rus)]\n",
    "pipe = Pipeline(steps=steps)\n",
    "\n",
    "X_r, y_r = pipe.fit_resample(X, y)"
   ]
  },
  {
   "cell_type": "code",
   "execution_count": null,
   "id": "3a390cd1",
   "metadata": {},
   "outputs": [],
   "source": [
    "unpatch_sklearn()\n",
    "from sklearn.ensemble import RandomForestClassifier\n",
    "\n",
    "clf = RandomForestClassifier(n_jobs=-1)\n",
    "clf.fit(X_r, y_r)"
   ]
  },
  {
   "cell_type": "markdown",
   "id": "72908381",
   "metadata": {},
   "source": [
    "## resamplign"
   ]
  },
  {
   "cell_type": "code",
   "execution_count": null,
   "id": "6c82f128",
   "metadata": {},
   "outputs": [],
   "source": [
    "## imports\n",
    "from imblearn.under_sampling import RandomUnderSampler, NearMiss, TomekLinks\n",
    "from imblearn.over_sampling import RandomOverSampler, SMOTE, ADASYN\n",
    "from imblearn.pipeline import Pipeline"
   ]
  },
  {
   "cell_type": "code",
   "execution_count": null,
   "id": "f763ee0d",
   "metadata": {},
   "outputs": [],
   "source": [
    "equal_undersampler = RandomUnderSampler(sampling_strategy=1)\n",
    "equal_SMOTE = SMOTE(sampling_strategy=1)\n",
    "equal_ADASYN = ADASYN(sampling_strategy=1)\n",
    "SMOTE_partial = SMOTE(sampling_strategy=0.1)\n",
    "ADASYN_partial = ADASYN(sampling_strategy=0.1)\n",
    "SMOTE_half = SMOTE(sampling_strategy=0.5)\n",
    "ADASYN_half = ADASYN(sampling_strategy=0.5)\n",
    "under_partial = RandomUnderSampler(sampling_strategy=0.5) # bootstrapping\n",
    "\n",
    "wack_steps = [('o', SMOTE_half), ('o2', equal_ADASYN)]\n",
    "\n",
    "smote_steps = [('o', SMOTE_partial), ('u', under_partial)]\n",
    "adasyn_steps = [('o', ADASYN_partial), ('u', under_partial)]\n",
    "smote_pipeline = Pipeline(steps=smote_steps)\n",
    "ada_pipeline = Pipeline(steps=adasyn_steps)\n",
    "wack_pipe = Pipeline(steps=wack_steps)"
   ]
  },
  {
   "cell_type": "code",
   "execution_count": null,
   "id": "dbb8858f",
   "metadata": {},
   "outputs": [],
   "source": [
    "X, y = prep_samples(ds, include_tv=True, compute=True)"
   ]
  },
  {
   "cell_type": "code",
   "execution_count": null,
   "id": "0c90ab9b",
   "metadata": {},
   "outputs": [],
   "source": [
    "data = pd.DataFrame(X, columns = ['d2m', 'lai_hv', 'lai_lv', 'mu_t2m_180', 'mu_t2m_30', 'mu_t2m_90', 'mu_tp_90', 'mu_tp_30', 'sp', 'mu_tp_180', 't2m', 'tp', 'ws10', 'tvh', 'tvl'])"
   ]
  },
  {
   "cell_type": "code",
   "execution_count": null,
   "id": "0889dc9c",
   "metadata": {},
   "outputs": [],
   "source": [
    "with open('la_fire_data.txt', 'w') as outfile:\n",
    "    outfile.write(','.join([str(i) for i in y]))"
   ]
  },
  {
   "cell_type": "code",
   "execution_count": null,
   "id": "aa0311a9",
   "metadata": {},
   "outputs": [],
   "source": [
    "data.to_csv('la_forest_input_data.csv')"
   ]
  },
  {
   "cell_type": "code",
   "execution_count": null,
   "id": "2423bcc7",
   "metadata": {},
   "outputs": [],
   "source": [
    "sample_num = len(y)\n",
    "train_num = int(sample_num*0.8)\n",
    "X_train = X[:train_num]\n",
    "y_train = y[:train_num]\n",
    "X_test = X[train_num:]\n",
    "y_test = y[train_num:]"
   ]
  },
  {
   "cell_type": "code",
   "execution_count": null,
   "id": "c387bf2f",
   "metadata": {},
   "outputs": [],
   "source": [
    "# X_train, X_test, y_train, y_test = train_test_split(X, y, test_size = 0.2, shuffle = True, random_state=10)"
   ]
  },
  {
   "cell_type": "code",
   "execution_count": null,
   "id": "f63f630e",
   "metadata": {},
   "outputs": [],
   "source": [
    "X_resampled, y_resampled = wack_pipe.fit_resample(X_train, y_train)"
   ]
  },
  {
   "cell_type": "code",
   "execution_count": null,
   "id": "f1390cb0",
   "metadata": {},
   "outputs": [],
   "source": [
    "rf_clf = HistGradientBoostingClassifier()\n",
    "rf_clf.fit(X_resampled, y_resampled)"
   ]
  },
  {
   "cell_type": "code",
   "execution_count": null,
   "id": "5f85ebc2",
   "metadata": {},
   "outputs": [],
   "source": [
    "dump(rf_clf, f'models/veg_data/laf.hgb.smote_0,5-ada_1.joblib')"
   ]
  },
  {
   "cell_type": "code",
   "execution_count": null,
   "id": "be1c6227",
   "metadata": {},
   "outputs": [],
   "source": [
    "test_ds = xr.open_zarr('../data/_ZARR_READY/la_forest_post')\n",
    "X_post, y_post = prep_samples(test_ds, compute=True, include_tv=True)"
   ]
  },
  {
   "cell_type": "code",
   "execution_count": null,
   "id": "c7c9cd9b",
   "metadata": {},
   "outputs": [],
   "source": [
    "clf = load('models/veg_data/laf.rf.ada_0,1-rus_0,5.joblib')\n",
    "\n",
    "y_pred = clf.predict(X_post)\n",
    "print(classification_report(y_post, y_pred))"
   ]
  },
  {
   "cell_type": "code",
   "execution_count": null,
   "id": "1e4e02e2",
   "metadata": {},
   "outputs": [],
   "source": [
    "## downsampled to 0.01, upsampled to 0.1\n",
    "import matplotlib.pyplot as plt\n",
    "import seaborn as sns\n",
    "\n",
    "for i, feature in enumerate(features):\n",
    "    plt.figure(figsize=(20, 10))\n",
    "    # plt.hist(full_X_over.transpose()[i], bins=30)\n",
    "    sns.histplot(stacked[feature], bins=30, stat='density', label='Original')\n",
    "    sns.histplot(full_X_over.transpose()[i], bins=30, stat='density', label='Resampled')\n",
    "    plt.title(feature)"
   ]
  },
  {
   "cell_type": "code",
   "execution_count": null,
   "id": "a90341c7",
   "metadata": {},
   "outputs": [],
   "source": [
    "## downsampled to 0.01\n",
    "\n",
    "import matplotlib.pyplot as plt\n",
    "import seaborn as sns\n",
    "\n",
    "for i, feature in enumerate(features):\n",
    "    plt.figure(figsize=(20, 10))\n",
    "    # plt.hist(full_X_over.transpose()[i], bins=30)\n",
    "    sns.histplot(stacked[feature], bins=30, stat='density', label='Original')\n",
    "    sns.histplot(full_X_over.transpose()[i], bins=30, stat='density', label='Resampled')\n",
    "    plt.title(feature)"
   ]
  },
  {
   "cell_type": "code",
   "execution_count": null,
   "id": "bd15f6b3",
   "metadata": {},
   "outputs": [],
   "source": [
    "plt.figure(figsize=(20, 10))\n",
    "sns.histplot(full_X_over.transpose()[0], bins=30)"
   ]
  },
  {
   "cell_type": "code",
   "execution_count": null,
   "id": "261aa06b",
   "metadata": {},
   "outputs": [],
   "source": [
    "test_under = RandomUnderSampler(sampling_strategy=1)\n",
    "X_under, y_under = test_under.fit_resample(X, y)"
   ]
  },
  {
   "cell_type": "markdown",
   "id": "68c5082e",
   "metadata": {},
   "source": [
    "## model"
   ]
  },
  {
   "cell_type": "code",
   "execution_count": null,
   "id": "a17dd723",
   "metadata": {},
   "outputs": [],
   "source": [
    "clf = RandomForestClassifier(n_estimators=50, max_depth = 8, n_jobs=-1, min_samples_leaf=5)\n",
    "clf.fit(full_X_train, full_y_train)"
   ]
  },
  {
   "cell_type": "code",
   "execution_count": null,
   "id": "fadcee77",
   "metadata": {},
   "outputs": [],
   "source": [
    "## pre-patch\n",
    "both_clf = RandomForestClassifier()\n",
    "both_clf.fit(X_both, y_both)"
   ]
  },
  {
   "cell_type": "code",
   "execution_count": null,
   "id": "52b2b037",
   "metadata": {},
   "outputs": [],
   "source": [
    "full_y_pred = clf.predict(full_X_test)\n",
    "print(classification_report(full_y_test, full_y_pred))"
   ]
  },
  {
   "cell_type": "code",
   "execution_count": null,
   "id": "f8de3786",
   "metadata": {},
   "outputs": [],
   "source": [
    "from joblib import dump\n",
    "dump(clf, './models/LA_FOREST_reduced_size.joblib')"
   ]
  },
  {
   "cell_type": "markdown",
   "id": "111b712d",
   "metadata": {},
   "source": [
    "## model testing"
   ]
  },
  {
   "cell_type": "code",
   "execution_count": null,
   "id": "0264eeaa",
   "metadata": {},
   "outputs": [],
   "source": [
    "from joblib import load\n",
    "clf = load('../main/models/LA_FOREST-rf_0.01-over-under.joblib')"
   ]
  },
  {
   "cell_type": "code",
   "execution_count": null,
   "id": "37496a40",
   "metadata": {},
   "outputs": [],
   "source": [
    "full_y_pred = clf.predict(full_X_test)\n",
    "print(classification_report(full_y_test, full_y_pred))"
   ]
  },
  {
   "cell_type": "code",
   "execution_count": null,
   "id": "74b0819c",
   "metadata": {},
   "outputs": [],
   "source": [
    "## test la forest model on canada data\n",
    "from random_forest import prep_samples\n",
    "ds = xr.open_zarr('../data/_ZARR_READY/canada')"
   ]
  },
  {
   "cell_type": "code",
   "execution_count": null,
   "id": "77f619a8",
   "metadata": {},
   "outputs": [],
   "source": [
    "from random_forest import prep_samples\n",
    "canada_X, canada_y = prep_samples(ds.sel(time=pd.date_range('2009-12-31', '2010-12-31', freq='D')))\n",
    "canada_X = canada_X.persist()\n",
    "canada_y = canada_y.persist()\n",
    "canada_X_reduced, canada_y_reduced = pipe.fit_resample(canada_X, canada_y)\n",
    "canada_y_reduced.sum()"
   ]
  },
  {
   "cell_type": "code",
   "execution_count": null,
   "id": "5cae5704",
   "metadata": {},
   "outputs": [],
   "source": [
    "y_pred = clf.predict(canada_X)\n",
    "print(classification_report(canada_y, y_pred))"
   ]
  },
  {
   "cell_type": "code",
   "execution_count": null,
   "id": "6557214c",
   "metadata": {},
   "outputs": [],
   "source": [
    "cX_train, cX_test, cy_train, cy_test = train_test_split(canada_X_reduced, canada_y_reduced, test_size=0.2, random_state=10, shuffle=True)\n",
    "canada_rf = RandomForestClassifier(n_jobs=-1)\n",
    "canada_rf.fit(cX_train, cy_train)\n",
    "dump(canada_rf, './models/canada_partial_date_range.joblib')"
   ]
  },
  {
   "cell_type": "code",
   "execution_count": null,
   "id": "a7e7484e",
   "metadata": {},
   "outputs": [],
   "source": [
    "\n",
    "canada_y_pred = clf.predict(canada_X)\n",
    "print(classification_report(canada_y, canada_y_pred))"
   ]
  },
  {
   "cell_type": "code",
   "execution_count": null,
   "id": "b83e7389",
   "metadata": {},
   "outputs": [],
   "source": [
    "from sklearn.tree import plot_tree\n",
    "\n",
    "plt.figure(figsize=(20, 10))\n",
    "plot_tree(clf.estimators_[0], feature_names=features, filled=True)\n",
    "plt.show()"
   ]
  },
  {
   "cell_type": "code",
   "execution_count": null,
   "id": "58053194",
   "metadata": {},
   "outputs": [],
   "source": [
    "from sklearn.ensemble import RandomForestClassifier\n",
    "\n",
    "## post-patch\n",
    "second_both_clf = RandomForestClassifier()\n",
    "second_both_clf.fit(X_both, y_both)"
   ]
  },
  {
   "cell_type": "code",
   "execution_count": null,
   "id": "b58024ce",
   "metadata": {},
   "outputs": [],
   "source": [
    "y_pred = second_both_clf.predict(X_test)\n",
    "print(classification_report(y_test, y_pred))"
   ]
  },
  {
   "cell_type": "code",
   "execution_count": null,
   "id": "ea80f2e2",
   "metadata": {},
   "outputs": [],
   "source": [
    "y_train_pred = clf.predict(X_train)\n",
    "print(classification_report(y_train, y_train_pred))"
   ]
  },
  {
   "cell_type": "code",
   "execution_count": null,
   "id": "b30ffc69",
   "metadata": {},
   "outputs": [],
   "source": []
  }
 ],
 "metadata": {
  "kernelspec": {
   "display_name": "ml_ff",
   "language": "python",
   "name": "python3"
  },
  "language_info": {
   "codemirror_mode": {
    "name": "ipython",
    "version": 3
   },
   "file_extension": ".py",
   "mimetype": "text/x-python",
   "name": "python",
   "nbconvert_exporter": "python",
   "pygments_lexer": "ipython3",
   "version": "3.13.0"
  }
 },
 "nbformat": 4,
 "nbformat_minor": 5
}
