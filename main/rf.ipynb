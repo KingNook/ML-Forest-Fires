{
 "cells": [
  {
   "cell_type": "markdown",
   "id": "4a3a44de",
   "metadata": {},
   "source": [
    "## imports"
   ]
  },
  {
   "cell_type": "code",
   "execution_count": null,
   "id": "3291a24e",
   "metadata": {},
   "outputs": [],
   "source": [
    "from dask.distributed import Client\n",
    "client = Client()\n",
    "client"
   ]
  },
  {
   "cell_type": "code",
   "execution_count": null,
   "id": "6024b787",
   "metadata": {},
   "outputs": [],
   "source": [
    "import os\n",
    "os.environ[\"SCIPY_ARRAY_API\"] = \"1\""
   ]
  },
  {
   "cell_type": "code",
   "execution_count": null,
   "id": "35cd859c",
   "metadata": {},
   "outputs": [],
   "source": [
    "# Data Processing\n",
    "import pandas as pd\n",
    "import numpy as np\n",
    "import dask\n",
    "\n",
    "# Modelling\n",
    "from sklearn.ensemble import RandomForestClassifier\n",
    "from sklearn.metrics import accuracy_score, confusion_matrix, precision_score, recall_score, ConfusionMatrixDisplay, classification_report\n",
    "from sklearn.model_selection import RandomizedSearchCV\n",
    "from scipy.stats import randint\n",
    "\n",
    "import imblearn\n",
    "from dask_ml.model_selection import train_test_split \n",
    "\n",
    "# Tree Visualisation\n",
    "from sklearn.tree import export_graphviz\n",
    "from IPython.display import Image\n",
    "import graphviz\n",
    "import xarray as xr\n",
    "import numpy as np\n",
    "\n",
    "from joblib import dump"
   ]
  },
  {
   "cell_type": "markdown",
   "id": "68b27246",
   "metadata": {},
   "source": [
    "## data prep"
   ]
  },
  {
   "cell_type": "code",
   "execution_count": null,
   "id": "7836e2d8",
   "metadata": {},
   "outputs": [],
   "source": [
    "# ds = xr.open_zarr('../data/_ZARR_READY/la_main_data', decode_timedelta=False)\n",
    "ds = xr.open_zarr('../data/_ZARR_READY/canada', decode_timedelta=False)\n",
    "# prior_data = xr.open_zarr('./data/_ZARR_READY/la_prior_data')\n",
    "print(list(ds.data_vars))"
   ]
  },
  {
   "cell_type": "code",
   "execution_count": null,
   "id": "7ed6b499",
   "metadata": {},
   "outputs": [],
   "source": [
    "features = ['d2m', 'lai_hv', 'lai_lv', 'mu_t2m_180', 'mu_t2m_30', 'mu_t2m_90', 'mu_tp_90', 'mu_tp_30', 'sp', 'mu_tp_180', 't2m', 'tp', 'ws10']\n",
    "# features = ['d2m', 'lai_hv', 'lai_lv', 'sp', 'tot_t2m', 't2m', 'tot_tp', 'tp', 'ws10']\n",
    "\n",
    "print('stacking data..')\n",
    "ds_trim = ds#.sel(time=pd.date_range(start='2010-01-01', end='2010-01-02', freq='D'))\n",
    "stacked = ds_trim.stack(sample = ('time', 'step', 'latitude', 'longitude'))\n",
    "print('dropping na...')\n",
    "\n",
    "# slower (potential eager eval)\n",
    "# stacked = stacked.dropna(dim = 'sample')\n",
    "\n",
    "features_stacked = stacked[features].persist()\n",
    "labels_stacked = stacked['fire'].persist()\n",
    "valid = ~np.isnan(labels_stacked).compute()\n",
    "features_clean = features_stacked.where(valid, drop=True)\n",
    "labels_clean = labels_stacked.where(valid, drop=True)"
   ]
  },
  {
   "cell_type": "code",
   "execution_count": null,
   "id": "9aaa1dcc",
   "metadata": {},
   "outputs": [],
   "source": [
    "X = features_clean.to_array().transpose('sample', 'variable').chunk({'sample':700000, 'variable':13}).data\n",
    "y = labels_clean.chunk({'sample':700000}).data"
   ]
  },
  {
   "cell_type": "code",
   "execution_count": null,
   "id": "79a7a48d",
   "metadata": {},
   "outputs": [],
   "source": [
    "X_train, X_test, y_train, y_test = train_test_split(X, y, test_size = 0.2, random_state = 10)"
   ]
  },
  {
   "cell_type": "markdown",
   "id": "72908381",
   "metadata": {},
   "source": [
    "## resamplign"
   ]
  },
  {
   "cell_type": "code",
   "execution_count": null,
   "id": "f763ee0d",
   "metadata": {},
   "outputs": [],
   "source": [
    "from imblearn.under_sampling import RandomUnderSampler\n",
    "\n",
    "under = RandomUnderSampler(sampling_strategy=0.1)\n",
    "X_under, y_under = under.fit_resample(X_train, y_train)\n",
    "y_under"
   ]
  },
  {
   "cell_type": "code",
   "execution_count": null,
   "id": "37b3e558",
   "metadata": {},
   "outputs": [],
   "source": [
    "from imblearn.over_sampling import RandomOverSampler\n",
    "\n",
    "over = RandomOverSampler(sampling_strategy=1)\n",
    "X_over, y_over = over.fit_resample(X_train, y_train)"
   ]
  },
  {
   "cell_type": "code",
   "execution_count": null,
   "id": "2bb23176",
   "metadata": {},
   "outputs": [],
   "source": [
    "from imblearn.pipeline import Pipeline\n",
    "\n",
    "over_partial = RandomOverSampler(sampling_strategy=0.01)\n",
    "under_partial = RandomUnderSampler(sampling_strategy=0.1)\n",
    "\n",
    "steps = [('o', over_partial), ('u', under_partial)]\n",
    "pipeline = Pipeline(steps=steps)\n",
    "X_both, y_both = pipeline.fit_resample(X_train, y_train)"
   ]
  },
  {
   "cell_type": "code",
   "execution_count": null,
   "id": "ac757d91",
   "metadata": {},
   "outputs": [],
   "source": [
    "y_both"
   ]
  },
  {
   "cell_type": "markdown",
   "id": "6da57daa",
   "metadata": {},
   "source": [
    "### resampling sets before t-t split"
   ]
  },
  {
   "cell_type": "code",
   "execution_count": null,
   "id": "9b80ace4",
   "metadata": {},
   "outputs": [],
   "source": [
    "full_over = RandomOverSampler(sampling_strategy=0.01)\n",
    "full_under = RandomUnderSampler(sampling_strategy=0.01)\n",
    "steps = [('o', full_over), ('u', full_under)]\n",
    "\n",
    "pipe = Pipeline(steps=steps)\n",
    "full_X_over, full_Y_over = pipe.fit_resample(X, y)"
   ]
  },
  {
   "cell_type": "code",
   "execution_count": null,
   "id": "0897b993",
   "metadata": {},
   "outputs": [],
   "source": [
    "full_X_train, full_X_test, full_y_train, full_y_test = train_test_split(full_X_over, full_Y_over, test_size=0.2, random_state=10)"
   ]
  },
  {
   "cell_type": "markdown",
   "id": "68c5082e",
   "metadata": {},
   "source": [
    "## model"
   ]
  },
  {
   "cell_type": "code",
   "execution_count": null,
   "id": "a17dd723",
   "metadata": {},
   "outputs": [],
   "source": [
    "clf = RandomForestClassifier(n_jobs = -1)\n",
    "clf.fit(full_X_train, full_y_train)"
   ]
  },
  {
   "cell_type": "code",
   "execution_count": null,
   "id": "fadcee77",
   "metadata": {},
   "outputs": [],
   "source": [
    "## pre-patch\n",
    "both_clf = RandomForestClassifier()\n",
    "both_clf.fit(X_both, y_both)"
   ]
  },
  {
   "cell_type": "code",
   "execution_count": null,
   "id": "52b2b037",
   "metadata": {},
   "outputs": [],
   "source": [
    "full_y_pred = clf.predict(X)\n",
    "print(classification_report(y, full_y_pred))"
   ]
  },
  {
   "cell_type": "code",
   "execution_count": null,
   "id": "5ddb4cea",
   "metadata": {},
   "outputs": [],
   "source": [
    "from joblib import dump\n",
    "dump(clf, './models/rf_0.01-over-under.joblib')"
   ]
  },
  {
   "cell_type": "code",
   "execution_count": null,
   "id": "58053194",
   "metadata": {},
   "outputs": [],
   "source": [
    "from sklearnex import patch_sklearn\n",
    "patch_sklearn()\n",
    "\n",
    "from sklearn.ensemble import RandomForestClassifier\n",
    "\n",
    "## post-patch\n",
    "second_both_clf = RandomForestClassifier()\n",
    "second_both_clf.fit(X_both, y_both)"
   ]
  },
  {
   "cell_type": "code",
   "execution_count": null,
   "id": "b58024ce",
   "metadata": {},
   "outputs": [],
   "source": [
    "y_pred = second_both_clf.predict(X_test)\n",
    "print(classification_report(y_test, y_pred))"
   ]
  },
  {
   "cell_type": "code",
   "execution_count": null,
   "id": "ea80f2e2",
   "metadata": {},
   "outputs": [],
   "source": [
    "y_train_pred = clf.predict(X_train)\n",
    "print(classification_report(y_train, y_train_pred))"
   ]
  },
  {
   "cell_type": "code",
   "execution_count": null,
   "id": "41927570",
   "metadata": {},
   "outputs": [],
   "source": [
    "from sklearn.metrics import f1_score"
   ]
  },
  {
   "cell_type": "code",
   "execution_count": null,
   "id": "1acec544",
   "metadata": {},
   "outputs": [],
   "source": [
    "f1_score(y_test, y_pred)"
   ]
  },
  {
   "cell_type": "code",
   "execution_count": null,
   "id": "e76d1d67",
   "metadata": {},
   "outputs": [],
   "source": [
    "fd = pd.read_csv('../data/_FIRE/la_forest_csv/data.csv')\n",
    "len(fd)"
   ]
  },
  {
   "cell_type": "code",
   "execution_count": null,
   "id": "5cf2c944",
   "metadata": {},
   "outputs": [],
   "source": []
  },
  {
   "cell_type": "code",
   "execution_count": null,
   "id": "47bef115",
   "metadata": {},
   "outputs": [],
   "source": [
    "!conda list graphviz"
   ]
  },
  {
   "cell_type": "code",
   "execution_count": null,
   "id": "17757fc3",
   "metadata": {},
   "outputs": [],
   "source": [
    "from sklearn.tree import plot_tree\n",
    "import matplotlib.pyplot as plt\n",
    "\n",
    "plt.figure(figsize=(12, 8))\n",
    "plot_tree(tree, \n",
    "          feature_names=features,\n",
    "          class_names=['fire'],\n",
    "          filled=True)\n",
    "plt.show()\n"
   ]
  }
 ],
 "metadata": {
  "kernelspec": {
   "display_name": "ml_ff",
   "language": "python",
   "name": "python3"
  },
  "language_info": {
   "codemirror_mode": {
    "name": "ipython",
    "version": 3
   },
   "file_extension": ".py",
   "mimetype": "text/x-python",
   "name": "python",
   "nbconvert_exporter": "python",
   "pygments_lexer": "ipython3",
   "version": "3.13.0"
  }
 },
 "nbformat": 4,
 "nbformat_minor": 5
}
